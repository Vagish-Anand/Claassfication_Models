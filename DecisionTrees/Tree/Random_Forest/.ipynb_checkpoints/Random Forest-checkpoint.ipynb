{
 "cells": [
  {
   "cell_type": "code",
   "execution_count": 38,
   "metadata": {},
   "outputs": [
    {
     "name": "stdout",
     "output_type": "stream",
     "text": [
      "Connecting to H2O server at http://localhost:54321... successful.\n"
     ]
    },
    {
     "data": {
      "text/html": [
       "<div style=\"overflow:auto\"><table style=\"width:50%\"><tr><td>H2O cluster uptime:</td>\n",
       "<td>50 mins 42 secs</td></tr>\n",
       "<tr><td>H2O cluster timezone:</td>\n",
       "<td>Asia/Kolkata</td></tr>\n",
       "<tr><td>H2O data parsing timezone:</td>\n",
       "<td>UTC</td></tr>\n",
       "<tr><td>H2O cluster version:</td>\n",
       "<td>3.20.0.8</td></tr>\n",
       "<tr><td>H2O cluster version age:</td>\n",
       "<td>2 months and 10 days </td></tr>\n",
       "<tr><td>H2O cluster name:</td>\n",
       "<td>H2O_from_python_saughosh_frvg22</td></tr>\n",
       "<tr><td>H2O cluster total nodes:</td>\n",
       "<td>1</td></tr>\n",
       "<tr><td>H2O cluster free memory:</td>\n",
       "<td>49.80 Mb</td></tr>\n",
       "<tr><td>H2O cluster total cores:</td>\n",
       "<td>4</td></tr>\n",
       "<tr><td>H2O cluster allowed cores:</td>\n",
       "<td>4</td></tr>\n",
       "<tr><td>H2O cluster status:</td>\n",
       "<td>locked, healthy</td></tr>\n",
       "<tr><td>H2O connection url:</td>\n",
       "<td>http://localhost:54321</td></tr>\n",
       "<tr><td>H2O connection proxy:</td>\n",
       "<td>None</td></tr>\n",
       "<tr><td>H2O internal security:</td>\n",
       "<td>False</td></tr>\n",
       "<tr><td>H2O API Extensions:</td>\n",
       "<td>Algos, AutoML, Core V3, Core V4</td></tr>\n",
       "<tr><td>Python version:</td>\n",
       "<td>3.6.5 final</td></tr></table></div>"
      ],
      "text/plain": [
       "--------------------------  -------------------------------\n",
       "H2O cluster uptime:         50 mins 42 secs\n",
       "H2O cluster timezone:       Asia/Kolkata\n",
       "H2O data parsing timezone:  UTC\n",
       "H2O cluster version:        3.20.0.8\n",
       "H2O cluster version age:    2 months and 10 days\n",
       "H2O cluster name:           H2O_from_python_saughosh_frvg22\n",
       "H2O cluster total nodes:    1\n",
       "H2O cluster free memory:    49.80 Mb\n",
       "H2O cluster total cores:    4\n",
       "H2O cluster allowed cores:  4\n",
       "H2O cluster status:         locked, healthy\n",
       "H2O connection url:         http://localhost:54321\n",
       "H2O connection proxy:\n",
       "H2O internal security:      False\n",
       "H2O API Extensions:         Algos, AutoML, Core V3, Core V4\n",
       "Python version:             3.6.5 final\n",
       "--------------------------  -------------------------------"
      ]
     },
     "metadata": {},
     "output_type": "display_data"
    },
    {
     "name": "stdout",
     "output_type": "stream",
     "text": [
      "Checking whether there is an H2O instance running at http://localhost:54321. connected.\n"
     ]
    },
    {
     "data": {
      "text/html": [
       "<div style=\"overflow:auto\"><table style=\"width:50%\"><tr><td>H2O cluster uptime:</td>\n",
       "<td>50 mins 47 secs</td></tr>\n",
       "<tr><td>H2O cluster timezone:</td>\n",
       "<td>Asia/Kolkata</td></tr>\n",
       "<tr><td>H2O data parsing timezone:</td>\n",
       "<td>UTC</td></tr>\n",
       "<tr><td>H2O cluster version:</td>\n",
       "<td>3.20.0.8</td></tr>\n",
       "<tr><td>H2O cluster version age:</td>\n",
       "<td>2 months and 10 days </td></tr>\n",
       "<tr><td>H2O cluster name:</td>\n",
       "<td>H2O_from_python_saughosh_frvg22</td></tr>\n",
       "<tr><td>H2O cluster total nodes:</td>\n",
       "<td>1</td></tr>\n",
       "<tr><td>H2O cluster free memory:</td>\n",
       "<td>49.80 Mb</td></tr>\n",
       "<tr><td>H2O cluster total cores:</td>\n",
       "<td>4</td></tr>\n",
       "<tr><td>H2O cluster allowed cores:</td>\n",
       "<td>4</td></tr>\n",
       "<tr><td>H2O cluster status:</td>\n",
       "<td>locked, healthy</td></tr>\n",
       "<tr><td>H2O connection url:</td>\n",
       "<td>http://localhost:54321</td></tr>\n",
       "<tr><td>H2O connection proxy:</td>\n",
       "<td>None</td></tr>\n",
       "<tr><td>H2O internal security:</td>\n",
       "<td>False</td></tr>\n",
       "<tr><td>H2O API Extensions:</td>\n",
       "<td>Algos, AutoML, Core V3, Core V4</td></tr>\n",
       "<tr><td>Python version:</td>\n",
       "<td>3.6.5 final</td></tr></table></div>"
      ],
      "text/plain": [
       "--------------------------  -------------------------------\n",
       "H2O cluster uptime:         50 mins 47 secs\n",
       "H2O cluster timezone:       Asia/Kolkata\n",
       "H2O data parsing timezone:  UTC\n",
       "H2O cluster version:        3.20.0.8\n",
       "H2O cluster version age:    2 months and 10 days\n",
       "H2O cluster name:           H2O_from_python_saughosh_frvg22\n",
       "H2O cluster total nodes:    1\n",
       "H2O cluster free memory:    49.80 Mb\n",
       "H2O cluster total cores:    4\n",
       "H2O cluster allowed cores:  4\n",
       "H2O cluster status:         locked, healthy\n",
       "H2O connection url:         http://localhost:54321\n",
       "H2O connection proxy:\n",
       "H2O internal security:      False\n",
       "H2O API Extensions:         Algos, AutoML, Core V3, Core V4\n",
       "Python version:             3.6.5 final\n",
       "--------------------------  -------------------------------"
      ]
     },
     "metadata": {},
     "output_type": "display_data"
    }
   ],
   "source": [
    "import h2o\n",
    "h2o.connect()\n",
    "h2o.init()"
   ]
  },
  {
   "cell_type": "code",
   "execution_count": 39,
   "metadata": {},
   "outputs": [
    {
     "name": "stdout",
     "output_type": "stream",
     "text": [
      "Parse progress: |█████████████████████████████████████████████████████████| 100%\n"
     ]
    }
   ],
   "source": [
    "path = r\"C:\\Users\\saughosh\\Desktop\\IMS\\Course\\DS3\\6.Machine Learning\\Algo\\Classfication\\Tree\\Random_Forest\\Dataset\\ENB2012_data.csv\"\n",
    "data = h2o.import_file(path)\n",
    "factorlist = [\"X6\",\"X8\"]\n",
    "data[factorlist] = data[factorlist].asfactor()\n",
    "\n",
    "train, test = data.split_frame([.8])"
   ]
  },
  {
   "cell_type": "code",
   "execution_count": 40,
   "metadata": {},
   "outputs": [],
   "source": [
    "data.head()\n",
    "x = [i for i in data.columns if i != \"Y1\"]\n",
    "y = \"Y1\""
   ]
  },
  {
   "cell_type": "code",
   "execution_count": 41,
   "metadata": {},
   "outputs": [
    {
     "data": {
      "text/plain": [
       "['X1', 'X2', 'X3', 'X4', 'X5', 'X6', 'X7', 'X8']"
      ]
     },
     "execution_count": 41,
     "metadata": {},
     "output_type": "execute_result"
    }
   ],
   "source": [
    "x"
   ]
  },
  {
   "cell_type": "markdown",
   "metadata": {},
   "source": [
    "# base model"
   ]
  },
  {
   "cell_type": "code",
   "execution_count": 16,
   "metadata": {},
   "outputs": [
    {
     "name": "stdout",
     "output_type": "stream",
     "text": [
      "drf Model Build progress: |███████████████████████████████████████████████| 100%\n"
     ]
    }
   ],
   "source": [
    "from h2o.estimators import H2ORandomForestEstimator\n",
    "model = H2ORandomForestEstimator()\n",
    "model.train(x = x ,y= y,training_frame = train)\n"
   ]
  },
  {
   "cell_type": "code",
   "execution_count": 17,
   "metadata": {},
   "outputs": [
    {
     "name": "stdout",
     "output_type": "stream",
     "text": [
      "Model Details\n",
      "=============\n",
      "H2ORandomForestEstimator :  Distributed Random Forest\n",
      "Model Key:  DRF_model_python_1543732240779_1\n",
      "\n",
      "\n",
      "ModelMetricsRegression: drf\n",
      "** Reported on train data. **\n",
      "\n",
      "MSE: 1.1170526757127084\n",
      "RMSE: 1.0569071272882535\n",
      "MAE: 0.7875765652290183\n",
      "RMSLE: 0.05540665703671681\n",
      "Mean Residual Deviance: 1.1170526757127084\n",
      "Scoring History: \n"
     ]
    },
    {
     "data": {
      "text/html": [
       "<div style=\"overflow:auto\"><table style=\"width:50%\"><tr><td><b></b></td>\n",
       "<td><b>timestamp</b></td>\n",
       "<td><b>duration</b></td>\n",
       "<td><b>number_of_trees</b></td>\n",
       "<td><b>training_rmse</b></td>\n",
       "<td><b>training_mae</b></td>\n",
       "<td><b>training_deviance</b></td></tr>\n",
       "<tr><td></td>\n",
       "<td>2018-12-02 12:13:44</td>\n",
       "<td> 0.000 sec</td>\n",
       "<td>0.0</td>\n",
       "<td>nan</td>\n",
       "<td>nan</td>\n",
       "<td>nan</td></tr>\n",
       "<tr><td></td>\n",
       "<td>2018-12-02 12:13:44</td>\n",
       "<td> 0.145 sec</td>\n",
       "<td>1.0</td>\n",
       "<td>2.0853284</td>\n",
       "<td>1.2337656</td>\n",
       "<td>4.3485945</td></tr>\n",
       "<tr><td></td>\n",
       "<td>2018-12-02 12:13:44</td>\n",
       "<td> 0.177 sec</td>\n",
       "<td>2.0</td>\n",
       "<td>2.1066877</td>\n",
       "<td>1.3361472</td>\n",
       "<td>4.4381329</td></tr>\n",
       "<tr><td></td>\n",
       "<td>2018-12-02 12:13:44</td>\n",
       "<td> 0.177 sec</td>\n",
       "<td>3.0</td>\n",
       "<td>1.9478393</td>\n",
       "<td>1.2350758</td>\n",
       "<td>3.7940781</td></tr>\n",
       "<tr><td></td>\n",
       "<td>2018-12-02 12:13:44</td>\n",
       "<td> 0.192 sec</td>\n",
       "<td>4.0</td>\n",
       "<td>1.8560439</td>\n",
       "<td>1.1734377</td>\n",
       "<td>3.4448988</td></tr>\n",
       "<tr><td>---</td>\n",
       "<td>---</td>\n",
       "<td>---</td>\n",
       "<td>---</td>\n",
       "<td>---</td>\n",
       "<td>---</td>\n",
       "<td>---</td></tr>\n",
       "<tr><td></td>\n",
       "<td>2018-12-02 12:13:44</td>\n",
       "<td> 0.422 sec</td>\n",
       "<td>46.0</td>\n",
       "<td>1.0176896</td>\n",
       "<td>0.7626375</td>\n",
       "<td>1.0356921</td></tr>\n",
       "<tr><td></td>\n",
       "<td>2018-12-02 12:13:44</td>\n",
       "<td> 0.426 sec</td>\n",
       "<td>47.0</td>\n",
       "<td>1.0111254</td>\n",
       "<td>0.7582974</td>\n",
       "<td>1.0223745</td></tr>\n",
       "<tr><td></td>\n",
       "<td>2018-12-02 12:13:44</td>\n",
       "<td> 0.434 sec</td>\n",
       "<td>48.0</td>\n",
       "<td>1.0316303</td>\n",
       "<td>0.7696366</td>\n",
       "<td>1.0642611</td></tr>\n",
       "<tr><td></td>\n",
       "<td>2018-12-02 12:13:44</td>\n",
       "<td> 0.439 sec</td>\n",
       "<td>49.0</td>\n",
       "<td>1.0481568</td>\n",
       "<td>0.7826517</td>\n",
       "<td>1.0986326</td></tr>\n",
       "<tr><td></td>\n",
       "<td>2018-12-02 12:13:44</td>\n",
       "<td> 0.444 sec</td>\n",
       "<td>50.0</td>\n",
       "<td>1.0569071</td>\n",
       "<td>0.7875766</td>\n",
       "<td>1.1170527</td></tr></table></div>"
      ],
      "text/plain": [
       "     timestamp            duration    number_of_trees    training_rmse       training_mae        training_deviance\n",
       "---  -------------------  ----------  -----------------  ------------------  ------------------  -------------------\n",
       "     2018-12-02 12:13:44  0.000 sec   0.0                nan                 nan                 nan\n",
       "     2018-12-02 12:13:44  0.145 sec   1.0                2.0853283996446885  1.2337656291811747  4.348594534364677\n",
       "     2018-12-02 12:13:44  0.177 sec   2.0                2.1066876526383016  1.3361472495271778  4.438132865778677\n",
       "     2018-12-02 12:13:44  0.177 sec   3.0                1.9478393365442932  1.2350757604977216  3.794078080989312\n",
       "     2018-12-02 12:13:44  0.192 sec   4.0                1.856043859494554   1.1734377303499601  3.44489880836744\n",
       "---  ---                  ---         ---                ---                 ---                 ---\n",
       "     2018-12-02 12:13:44  0.422 sec   46.0               1.0176895818843845  0.7626375373730027  1.0356920850760132\n",
       "     2018-12-02 12:13:44  0.426 sec   47.0               1.011125368519075   0.7582973651320795  1.0223745108628353\n",
       "     2018-12-02 12:13:44  0.434 sec   48.0               1.0316303262353577  0.7696365741450204  1.0642611300084703\n",
       "     2018-12-02 12:13:44  0.439 sec   49.0               1.048156752959078   0.7826517493667382  1.098632578773718\n",
       "     2018-12-02 12:13:44  0.444 sec   50.0               1.0569071272882535  0.7875765652290183  1.1170526757127084"
      ]
     },
     "metadata": {},
     "output_type": "display_data"
    },
    {
     "name": "stdout",
     "output_type": "stream",
     "text": [
      "\n",
      "See the whole table with table.as_data_frame()\n",
      "Variable Importances: \n"
     ]
    },
    {
     "data": {
      "text/html": [
       "<div style=\"overflow:auto\"><table style=\"width:50%\"><tr><td><b>variable</b></td>\n",
       "<td><b>relative_importance</b></td>\n",
       "<td><b>scaled_importance</b></td>\n",
       "<td><b>percentage</b></td></tr>\n",
       "<tr><td>X1</td>\n",
       "<td>774578.9375000</td>\n",
       "<td>1.0</td>\n",
       "<td>0.2863041</td></tr>\n",
       "<tr><td>X2</td>\n",
       "<td>546084.4375000</td>\n",
       "<td>0.7050081</td>\n",
       "<td>0.2018467</td></tr>\n",
       "<tr><td>X4</td>\n",
       "<td>540188.6875000</td>\n",
       "<td>0.6973966</td>\n",
       "<td>0.1996675</td></tr>\n",
       "<tr><td>X5</td>\n",
       "<td>539847.4375000</td>\n",
       "<td>0.6969560</td>\n",
       "<td>0.1995414</td></tr>\n",
       "<tr><td>X3</td>\n",
       "<td>149161.75</td>\n",
       "<td>0.1925714</td>\n",
       "<td>0.0551340</td></tr>\n",
       "<tr><td>X7</td>\n",
       "<td>114028.0468750</td>\n",
       "<td>0.1472129</td>\n",
       "<td>0.0421477</td></tr>\n",
       "<tr><td>X8</td>\n",
       "<td>39035.1210938</td>\n",
       "<td>0.0503953</td>\n",
       "<td>0.0144284</td></tr>\n",
       "<tr><td>X6</td>\n",
       "<td>2516.8203125</td>\n",
       "<td>0.0032493</td>\n",
       "<td>0.0009303</td></tr></table></div>"
      ],
      "text/plain": [
       "variable    relative_importance    scaled_importance    percentage\n",
       "----------  ---------------------  -------------------  ------------\n",
       "X1          774579                 1                    0.286304\n",
       "X2          546084                 0.705008             0.201847\n",
       "X4          540189                 0.697397             0.199667\n",
       "X5          539847                 0.696956             0.199541\n",
       "X3          149162                 0.192571             0.055134\n",
       "X7          114028                 0.147213             0.0421477\n",
       "X8          39035.1                0.0503953            0.0144284\n",
       "X6          2516.82                0.00324928           0.000930281"
      ]
     },
     "metadata": {},
     "output_type": "display_data"
    },
    {
     "data": {
      "text/plain": []
     },
     "execution_count": 17,
     "metadata": {},
     "output_type": "execute_result"
    }
   ],
   "source": [
    "model"
   ]
  },
  {
   "cell_type": "code",
   "execution_count": 18,
   "metadata": {},
   "outputs": [
    {
     "name": "stdout",
     "output_type": "stream",
     "text": [
      "\n",
      "ModelMetricsRegression: drf\n",
      "** Reported on test data. **\n",
      "\n",
      "MSE: 1.1555039557912479\n",
      "RMSE: 1.07494369889369\n",
      "MAE: 0.7648908491657208\n",
      "RMSLE: 0.05734668826172063\n",
      "Mean Residual Deviance: 1.1555039557912479\n"
     ]
    },
    {
     "data": {
      "text/plain": []
     },
     "execution_count": 18,
     "metadata": {},
     "output_type": "execute_result"
    }
   ],
   "source": [
    "model.model_performance(test_data = test)"
   ]
  },
  {
   "cell_type": "code",
   "execution_count": 19,
   "metadata": {},
   "outputs": [
    {
     "name": "stdout",
     "output_type": "stream",
     "text": [
      "drf prediction progress: |████████████████████████████████████████████████| 100%\n"
     ]
    },
    {
     "data": {
      "text/html": [
       "<table>\n",
       "<thead>\n",
       "<tr><th style=\"text-align: right;\">  predict</th></tr>\n",
       "</thead>\n",
       "<tbody>\n",
       "<tr><td style=\"text-align: right;\"> 18.1658 </td></tr>\n",
       "<tr><td style=\"text-align: right;\"> 20.9209 </td></tr>\n",
       "<tr><td style=\"text-align: right;\"> 31.5363 </td></tr>\n",
       "<tr><td style=\"text-align: right;\"> 31.6502 </td></tr>\n",
       "<tr><td style=\"text-align: right;\"> 28.987  </td></tr>\n",
       "<tr><td style=\"text-align: right;\"> 28.9031 </td></tr>\n",
       "<tr><td style=\"text-align: right;\"> 28.7252 </td></tr>\n",
       "<tr><td style=\"text-align: right;\">  8.48332</td></tr>\n",
       "<tr><td style=\"text-align: right;\">  8.26949</td></tr>\n",
       "<tr><td style=\"text-align: right;\">  7.96108</td></tr>\n",
       "</tbody>\n",
       "</table>"
      ]
     },
     "metadata": {},
     "output_type": "display_data"
    },
    {
     "data": {
      "text/plain": []
     },
     "execution_count": 19,
     "metadata": {},
     "output_type": "execute_result"
    }
   ],
   "source": [
    "model.predict(test)"
   ]
  },
  {
   "cell_type": "code",
   "execution_count": 21,
   "metadata": {},
   "outputs": [
    {
     "name": "stdout",
     "output_type": "stream",
     "text": [
      "drf Model Build progress: |███████████████████████████████████████████████| 100%\n",
      "Model Details\n",
      "=============\n",
      "H2ORandomForestEstimator :  Distributed Random Forest\n",
      "Model Key:  DRF_model_python_1543732240779_2\n",
      "\n",
      "\n",
      "ModelMetricsRegression: drf\n",
      "** Reported on train data. **\n",
      "\n",
      "MSE: 1.0828034396299695\n",
      "RMSE: 1.0405784158966442\n",
      "MAE: 0.8143348325125133\n",
      "RMSLE: 0.05248411909673591\n",
      "Mean Residual Deviance: 1.0828034396299695\n",
      "\n",
      "ModelMetricsRegression: drf\n",
      "** Reported on validation data. **\n",
      "\n",
      "MSE: 1.1264313140338524\n",
      "RMSE: 1.0613346852119045\n",
      "MAE: 0.7892572948377422\n",
      "RMSLE: 0.051116742046879264\n",
      "Mean Residual Deviance: 1.1264313140338524\n",
      "Scoring History: \n"
     ]
    },
    {
     "data": {
      "text/html": [
       "<div style=\"overflow:auto\"><table style=\"width:50%\"><tr><td><b></b></td>\n",
       "<td><b>timestamp</b></td>\n",
       "<td><b>duration</b></td>\n",
       "<td><b>number_of_trees</b></td>\n",
       "<td><b>training_rmse</b></td>\n",
       "<td><b>training_mae</b></td>\n",
       "<td><b>training_deviance</b></td>\n",
       "<td><b>validation_rmse</b></td>\n",
       "<td><b>validation_mae</b></td>\n",
       "<td><b>validation_deviance</b></td></tr>\n",
       "<tr><td></td>\n",
       "<td>2018-12-02 12:21:56</td>\n",
       "<td> 0.016 sec</td>\n",
       "<td>0.0</td>\n",
       "<td>nan</td>\n",
       "<td>nan</td>\n",
       "<td>nan</td>\n",
       "<td>nan</td>\n",
       "<td>nan</td>\n",
       "<td>nan</td></tr>\n",
       "<tr><td></td>\n",
       "<td>2018-12-02 12:21:56</td>\n",
       "<td> 0.031 sec</td>\n",
       "<td>1.0</td>\n",
       "<td>1.6085242</td>\n",
       "<td>1.1272582</td>\n",
       "<td>2.5873501</td>\n",
       "<td>1.8061371</td>\n",
       "<td>1.1382348</td>\n",
       "<td>3.2621312</td></tr>\n",
       "<tr><td></td>\n",
       "<td>2018-12-02 12:21:56</td>\n",
       "<td> 0.031 sec</td>\n",
       "<td>2.0</td>\n",
       "<td>1.5648640</td>\n",
       "<td>1.0253735</td>\n",
       "<td>2.4487994</td>\n",
       "<td>1.4560439</td>\n",
       "<td>0.9471289</td>\n",
       "<td>2.1200637</td></tr>\n",
       "<tr><td></td>\n",
       "<td>2018-12-02 12:21:56</td>\n",
       "<td> 0.047 sec</td>\n",
       "<td>3.0</td>\n",
       "<td>1.5627915</td>\n",
       "<td>1.0153699</td>\n",
       "<td>2.4423172</td>\n",
       "<td>1.5405174</td>\n",
       "<td>0.9423654</td>\n",
       "<td>2.3731937</td></tr>\n",
       "<tr><td></td>\n",
       "<td>2018-12-02 12:21:56</td>\n",
       "<td> 0.056 sec</td>\n",
       "<td>4.0</td>\n",
       "<td>1.4264888</td>\n",
       "<td>0.9598051</td>\n",
       "<td>2.0348703</td>\n",
       "<td>1.3523040</td>\n",
       "<td>0.8736766</td>\n",
       "<td>1.8287262</td></tr>\n",
       "<tr><td>---</td>\n",
       "<td>---</td>\n",
       "<td>---</td>\n",
       "<td>---</td>\n",
       "<td>---</td>\n",
       "<td>---</td>\n",
       "<td>---</td>\n",
       "<td>---</td>\n",
       "<td>---</td>\n",
       "<td>---</td></tr>\n",
       "<tr><td></td>\n",
       "<td>2018-12-02 12:21:56</td>\n",
       "<td> 0.346 sec</td>\n",
       "<td>46.0</td>\n",
       "<td>1.0632309</td>\n",
       "<td>0.8275789</td>\n",
       "<td>1.1304599</td>\n",
       "<td>1.0754200</td>\n",
       "<td>0.7971392</td>\n",
       "<td>1.1565283</td></tr>\n",
       "<tr><td></td>\n",
       "<td>2018-12-02 12:21:56</td>\n",
       "<td> 0.361 sec</td>\n",
       "<td>47.0</td>\n",
       "<td>1.0462928</td>\n",
       "<td>0.8201025</td>\n",
       "<td>1.0947287</td>\n",
       "<td>1.0496647</td>\n",
       "<td>0.7852786</td>\n",
       "<td>1.1017960</td></tr>\n",
       "<tr><td></td>\n",
       "<td>2018-12-02 12:21:56</td>\n",
       "<td> 0.361 sec</td>\n",
       "<td>48.0</td>\n",
       "<td>1.0369439</td>\n",
       "<td>0.8123139</td>\n",
       "<td>1.0752527</td>\n",
       "<td>1.0464851</td>\n",
       "<td>0.7805727</td>\n",
       "<td>1.0951311</td></tr>\n",
       "<tr><td></td>\n",
       "<td>2018-12-02 12:21:56</td>\n",
       "<td> 0.377 sec</td>\n",
       "<td>49.0</td>\n",
       "<td>1.0348842</td>\n",
       "<td>0.8120016</td>\n",
       "<td>1.0709854</td>\n",
       "<td>1.0407336</td>\n",
       "<td>0.7804129</td>\n",
       "<td>1.0831265</td></tr>\n",
       "<tr><td></td>\n",
       "<td>2018-12-02 12:21:56</td>\n",
       "<td> 0.377 sec</td>\n",
       "<td>50.0</td>\n",
       "<td>1.0405784</td>\n",
       "<td>0.8143348</td>\n",
       "<td>1.0828034</td>\n",
       "<td>1.0613347</td>\n",
       "<td>0.7892573</td>\n",
       "<td>1.1264313</td></tr></table></div>"
      ],
      "text/plain": [
       "     timestamp            duration    number_of_trees    training_rmse       training_mae        training_deviance    validation_rmse     validation_mae      validation_deviance\n",
       "---  -------------------  ----------  -----------------  ------------------  ------------------  -------------------  ------------------  ------------------  ---------------------\n",
       "     2018-12-02 12:21:56  0.016 sec   0.0                nan                 nan                 nan                  nan                 nan                 nan\n",
       "     2018-12-02 12:21:56  0.031 sec   1.0                1.608524209040404   1.1272582133611044  2.5873501310690568   1.8061370821689966  1.138234837414467   3.262131159585937\n",
       "     2018-12-02 12:21:56  0.031 sec   2.0                1.5648640117291965  1.0253734764299895  2.448799375205195    1.4560438512944542  0.9471289197059527  2.1200636968923865\n",
       "     2018-12-02 12:21:56  0.047 sec   3.0                1.5627914713197906  1.0153699424365115  2.4423171828298758   1.5405173576234685  0.9423654003230406  2.3731937291391936\n",
       "     2018-12-02 12:21:56  0.056 sec   4.0                1.4264888044069617  0.9598050734433037  2.034870309098403    1.3523040216106836  0.8736766086865778  1.8287261668644283\n",
       "---  ---                  ---         ---                ---                 ---                 ---                  ---                 ---                 ---\n",
       "     2018-12-02 12:21:56  0.346 sec   46.0               1.0632308741104666  0.8275788770774881  1.1304598916617068   1.0754200386744976  0.7971392474478379  1.156528259582658\n",
       "     2018-12-02 12:21:56  0.361 sec   47.0               1.0462928329721564  0.8201025273035366  1.0947286923289008   1.0496647291384977  0.7852786234953214  1.1017960435973957\n",
       "     2018-12-02 12:21:56  0.361 sec   48.0               1.0369439200303863  0.8123139365505697  1.075252693287984    1.0464851135562538  0.7805726712561092  1.0951310928948454\n",
       "     2018-12-02 12:21:56  0.377 sec   49.0               1.0348842261539242  0.8120015528860343  1.0709853615422065   1.0407336482553657  0.7804128594461155  1.0831265266109231\n",
       "     2018-12-02 12:21:56  0.377 sec   50.0               1.0405784158966442  0.8143348325125133  1.0828034396299695   1.0613346852119045  0.7892572948377422  1.1264313140338524"
      ]
     },
     "metadata": {},
     "output_type": "display_data"
    },
    {
     "name": "stdout",
     "output_type": "stream",
     "text": [
      "\n",
      "See the whole table with table.as_data_frame()\n",
      "Variable Importances: \n"
     ]
    },
    {
     "data": {
      "text/html": [
       "<div style=\"overflow:auto\"><table style=\"width:50%\"><tr><td><b>variable</b></td>\n",
       "<td><b>relative_importance</b></td>\n",
       "<td><b>scaled_importance</b></td>\n",
       "<td><b>percentage</b></td></tr>\n",
       "<tr><td>X1</td>\n",
       "<td>836723.6250000</td>\n",
       "<td>1.0</td>\n",
       "<td>0.2966091</td></tr>\n",
       "<tr><td>X2</td>\n",
       "<td>695506.0</td>\n",
       "<td>0.8312255</td>\n",
       "<td>0.2465490</td></tr>\n",
       "<tr><td>X5</td>\n",
       "<td>513643.2187500</td>\n",
       "<td>0.6138744</td>\n",
       "<td>0.1820807</td></tr>\n",
       "<tr><td>X4</td>\n",
       "<td>513424.5</td>\n",
       "<td>0.6136130</td>\n",
       "<td>0.1820032</td></tr>\n",
       "<tr><td>X3</td>\n",
       "<td>115960.6562500</td>\n",
       "<td>0.1385890</td>\n",
       "<td>0.0411067</td></tr>\n",
       "<tr><td>X7</td>\n",
       "<td>101517.9843750</td>\n",
       "<td>0.1213280</td>\n",
       "<td>0.0359870</td></tr>\n",
       "<tr><td>X8</td>\n",
       "<td>42001.1171875</td>\n",
       "<td>0.0501971</td>\n",
       "<td>0.0148889</td></tr>\n",
       "<tr><td>X6</td>\n",
       "<td>2187.3828125</td>\n",
       "<td>0.0026142</td>\n",
       "<td>0.0007754</td></tr></table></div>"
      ],
      "text/plain": [
       "variable    relative_importance    scaled_importance    percentage\n",
       "----------  ---------------------  -------------------  ------------\n",
       "X1          836724                 1                    0.296609\n",
       "X2          695506                 0.831225             0.246549\n",
       "X5          513643                 0.613874             0.182081\n",
       "X4          513424                 0.613613             0.182003\n",
       "X3          115961                 0.138589             0.0411067\n",
       "X7          101518                 0.121328             0.035987\n",
       "X8          42001.1                0.0501971            0.0148889\n",
       "X6          2187.38                0.00261422           0.000775402"
      ]
     },
     "metadata": {},
     "output_type": "display_data"
    },
    {
     "data": {
      "text/plain": []
     },
     "execution_count": 21,
     "metadata": {},
     "output_type": "execute_result"
    }
   ],
   "source": [
    "model1 = H2ORandomForestEstimator()\n",
    "model1.train(x =x , y = y , training_frame = train , validation_frame = test)\n",
    "model1"
   ]
  },
  {
   "cell_type": "markdown",
   "metadata": {},
   "source": [
    "# Grid Search  - Cartesian"
   ]
  },
  {
   "cell_type": "code",
   "execution_count": 54,
   "metadata": {},
   "outputs": [
    {
     "name": "stdout",
     "output_type": "stream",
     "text": [
      "drf Grid Build progress: |████████████████████████████████████████████████| 100%\n",
      "    max_depth min_rows ntrees  \\\n",
      "0          40      1.0    100   \n",
      "1          40      1.0     50   \n",
      "2          60      1.0     50   \n",
      "3          60      1.0    100   \n",
      "4          40      2.0    100   \n",
      "5          60      2.0    100   \n",
      "6          60      2.0     50   \n",
      "7          40      2.0     50   \n",
      "\n",
      "                                                      model_ids  \\\n",
      "0  Grid_DRF_py_14_sid_9793_model_python_1543732240779_4_model_4   \n",
      "1  Grid_DRF_py_14_sid_9793_model_python_1543732240779_4_model_0   \n",
      "2  Grid_DRF_py_14_sid_9793_model_python_1543732240779_4_model_1   \n",
      "3  Grid_DRF_py_14_sid_9793_model_python_1543732240779_4_model_5   \n",
      "4  Grid_DRF_py_14_sid_9793_model_python_1543732240779_4_model_6   \n",
      "5  Grid_DRF_py_14_sid_9793_model_python_1543732240779_4_model_7   \n",
      "6  Grid_DRF_py_14_sid_9793_model_python_1543732240779_4_model_3   \n",
      "7  Grid_DRF_py_14_sid_9793_model_python_1543732240779_4_model_2   \n",
      "\n",
      "    residual_deviance  \n",
      "0  0.9786305025776204  \n",
      "1  1.0653112605518036  \n",
      "2  1.0814147790847057  \n",
      "3  1.1509882517246308  \n",
      "4  1.2309560862180087  \n",
      "5  1.3682501124187332  \n",
      "6  1.4018609430236812  \n",
      "7  1.6134270210072228  \n"
     ]
    },
    {
     "data": {
      "text/plain": []
     },
     "execution_count": 54,
     "metadata": {},
     "output_type": "execute_result"
    }
   ],
   "source": [
    "g = h2o.grid.H2OGridSearch(h2o.estimators.H2ORandomForestEstimator(nfolds = 10),\n",
    "                          hyper_params = {\n",
    "                              'ntrees' : [50,100],\n",
    "                               'max_depth' : [40,60],\n",
    "                               \"min_rows\"  : [1,2]\n",
    "                          })\n",
    "g.train(x,y, train)\n",
    "g"
   ]
  },
  {
   "cell_type": "code",
   "execution_count": 55,
   "metadata": {},
   "outputs": [
    {
     "name": "stdout",
     "output_type": "stream",
     "text": [
      "    max_depth min_rows ntrees  \\\n",
      "0          40      2.0     50   \n",
      "1          60      2.0     50   \n",
      "2          60      2.0    100   \n",
      "3          40      2.0    100   \n",
      "4          60      1.0    100   \n",
      "5          60      1.0     50   \n",
      "6          40      1.0     50   \n",
      "7          40      1.0    100   \n",
      "\n",
      "                                                      model_ids  \\\n",
      "0  Grid_DRF_py_14_sid_9793_model_python_1543732240779_4_model_2   \n",
      "1  Grid_DRF_py_14_sid_9793_model_python_1543732240779_4_model_3   \n",
      "2  Grid_DRF_py_14_sid_9793_model_python_1543732240779_4_model_7   \n",
      "3  Grid_DRF_py_14_sid_9793_model_python_1543732240779_4_model_6   \n",
      "4  Grid_DRF_py_14_sid_9793_model_python_1543732240779_4_model_5   \n",
      "5  Grid_DRF_py_14_sid_9793_model_python_1543732240779_4_model_1   \n",
      "6  Grid_DRF_py_14_sid_9793_model_python_1543732240779_4_model_0   \n",
      "7  Grid_DRF_py_14_sid_9793_model_python_1543732240779_4_model_4   \n",
      "\n",
      "                  mse  \n",
      "0  1.6134270210072228  \n",
      "1  1.4018609430236812  \n",
      "2  1.3682501124187332  \n",
      "3  1.2309560862180087  \n",
      "4  1.1509882517246308  \n",
      "5  1.0814147790847057  \n",
      "6  1.0653112605518036  \n",
      "7  0.9786305025776204  \n"
     ]
    },
    {
     "data": {
      "text/plain": []
     },
     "execution_count": 55,
     "metadata": {},
     "output_type": "execute_result"
    }
   ],
   "source": [
    "gridperf1 = g.get_grid(sort_by='mse', decreasing=True)\n",
    "gridperf1"
   ]
  },
  {
   "cell_type": "code",
   "execution_count": 56,
   "metadata": {},
   "outputs": [
    {
     "name": "stdout",
     "output_type": "stream",
     "text": [
      "Model Details\n",
      "=============\n",
      "H2ORandomForestEstimator :  Distributed Random Forest\n",
      "Model Key:  Grid_DRF_py_14_sid_9793_model_python_1543732240779_4_model_2\n",
      "\n",
      "\n",
      "ModelMetricsRegression: drf\n",
      "** Reported on train data. **\n",
      "\n",
      "MSE: 1.4899799745800473\n",
      "RMSE: 1.2206473588141857\n",
      "MAE: 0.906550507819996\n",
      "RMSLE: 0.05997091250361178\n",
      "Mean Residual Deviance: 1.4899799745800473\n",
      "\n",
      "ModelMetricsRegression: drf\n",
      "** Reported on cross-validation data. **\n",
      "\n",
      "MSE: 1.6134270210072228\n",
      "RMSE: 1.2702074716388747\n",
      "MAE: 0.9304772706896689\n",
      "RMSLE: 0.0636460023883477\n",
      "Mean Residual Deviance: 1.6134270210072228\n",
      "Cross-Validation Metrics Summary: \n"
     ]
    },
    {
     "data": {
      "text/html": [
       "<div style=\"overflow:auto\"><table style=\"width:50%\"><tr><td><b></b></td>\n",
       "<td><b>mean</b></td>\n",
       "<td><b>sd</b></td>\n",
       "<td><b>cv_1_valid</b></td>\n",
       "<td><b>cv_2_valid</b></td>\n",
       "<td><b>cv_3_valid</b></td>\n",
       "<td><b>cv_4_valid</b></td>\n",
       "<td><b>cv_5_valid</b></td>\n",
       "<td><b>cv_6_valid</b></td>\n",
       "<td><b>cv_7_valid</b></td>\n",
       "<td><b>cv_8_valid</b></td>\n",
       "<td><b>cv_9_valid</b></td>\n",
       "<td><b>cv_10_valid</b></td></tr>\n",
       "<tr><td>mae</td>\n",
       "<td>0.9309754</td>\n",
       "<td>0.0901231</td>\n",
       "<td>0.8818628</td>\n",
       "<td>0.8999235</td>\n",
       "<td>0.795931</td>\n",
       "<td>0.9371079</td>\n",
       "<td>1.1467471</td>\n",
       "<td>1.014554</td>\n",
       "<td>0.7291491</td>\n",
       "<td>1.0719601</td>\n",
       "<td>0.8017910</td>\n",
       "<td>1.0307276</td></tr>\n",
       "<tr><td>mean_residual_deviance</td>\n",
       "<td>1.6092461</td>\n",
       "<td>0.3473275</td>\n",
       "<td>1.2920419</td>\n",
       "<td>1.2929927</td>\n",
       "<td>1.0600742</td>\n",
       "<td>1.5706043</td>\n",
       "<td>1.9560175</td>\n",
       "<td>2.135232</td>\n",
       "<td>0.8914096</td>\n",
       "<td>2.1223266</td>\n",
       "<td>1.3471303</td>\n",
       "<td>2.4246316</td></tr>\n",
       "<tr><td>mse</td>\n",
       "<td>1.6092461</td>\n",
       "<td>0.3473275</td>\n",
       "<td>1.2920419</td>\n",
       "<td>1.2929927</td>\n",
       "<td>1.0600742</td>\n",
       "<td>1.5706043</td>\n",
       "<td>1.9560175</td>\n",
       "<td>2.135232</td>\n",
       "<td>0.8914096</td>\n",
       "<td>2.1223266</td>\n",
       "<td>1.3471303</td>\n",
       "<td>2.4246316</td></tr>\n",
       "<tr><td>r2</td>\n",
       "<td>0.984136</td>\n",
       "<td>0.0035681</td>\n",
       "<td>0.9871849</td>\n",
       "<td>0.9881601</td>\n",
       "<td>0.9897151</td>\n",
       "<td>0.9836214</td>\n",
       "<td>0.981954</td>\n",
       "<td>0.9749302</td>\n",
       "<td>0.9913504</td>\n",
       "<td>0.9793488</td>\n",
       "<td>0.986304</td>\n",
       "<td>0.978791</td></tr>\n",
       "<tr><td>residual_deviance</td>\n",
       "<td>1.6092461</td>\n",
       "<td>0.3473275</td>\n",
       "<td>1.2920419</td>\n",
       "<td>1.2929927</td>\n",
       "<td>1.0600742</td>\n",
       "<td>1.5706043</td>\n",
       "<td>1.9560175</td>\n",
       "<td>2.135232</td>\n",
       "<td>0.8914096</td>\n",
       "<td>2.1223266</td>\n",
       "<td>1.3471303</td>\n",
       "<td>2.4246316</td></tr>\n",
       "<tr><td>rmse</td>\n",
       "<td>1.2535183</td>\n",
       "<td>0.1377277</td>\n",
       "<td>1.1366802</td>\n",
       "<td>1.1370983</td>\n",
       "<td>1.0295991</td>\n",
       "<td>1.2532375</td>\n",
       "<td>1.398577</td>\n",
       "<td>1.4612433</td>\n",
       "<td>0.9441449</td>\n",
       "<td>1.4568207</td>\n",
       "<td>1.1606594</td>\n",
       "<td>1.5571228</td></tr>\n",
       "<tr><td>rmsle</td>\n",
       "<td>0.0624248</td>\n",
       "<td>0.0064648</td>\n",
       "<td>0.0585986</td>\n",
       "<td>0.0618629</td>\n",
       "<td>0.0617903</td>\n",
       "<td>0.0681909</td>\n",
       "<td>0.0681795</td>\n",
       "<td>0.0628345</td>\n",
       "<td>0.0379205</td>\n",
       "<td>0.0631323</td>\n",
       "<td>0.0731510</td>\n",
       "<td>0.0685876</td></tr></table></div>"
      ],
      "text/plain": [
       "                        mean       sd          cv_1_valid    cv_2_valid    cv_3_valid    cv_4_valid    cv_5_valid    cv_6_valid    cv_7_valid    cv_8_valid    cv_9_valid    cv_10_valid\n",
       "----------------------  ---------  ----------  ------------  ------------  ------------  ------------  ------------  ------------  ------------  ------------  ------------  -------------\n",
       "mae                     0.930975   0.0901231   0.881863      0.899923      0.795931      0.937108      1.14675       1.01455       0.729149      1.07196       0.801791      1.03073\n",
       "mean_residual_deviance  1.60925    0.347328    1.29204       1.29299       1.06007       1.5706        1.95602       2.13523       0.89141       2.12233       1.34713       2.42463\n",
       "mse                     1.60925    0.347328    1.29204       1.29299       1.06007       1.5706        1.95602       2.13523       0.89141       2.12233       1.34713       2.42463\n",
       "r2                      0.984136   0.00356807  0.987185      0.98816       0.989715      0.983621      0.981954      0.97493       0.99135       0.979349      0.986304      0.978791\n",
       "residual_deviance       1.60925    0.347328    1.29204       1.29299       1.06007       1.5706        1.95602       2.13523       0.89141       2.12233       1.34713       2.42463\n",
       "rmse                    1.25352    0.137728    1.13668       1.1371        1.0296        1.25324       1.39858       1.46124       0.944145      1.45682       1.16066       1.55712\n",
       "rmsle                   0.0624248  0.00646484  0.0585986     0.0618629     0.0617903     0.0681909     0.0681795     0.0628345     0.0379205     0.0631323     0.073151      0.0685876"
      ]
     },
     "metadata": {},
     "output_type": "display_data"
    },
    {
     "name": "stdout",
     "output_type": "stream",
     "text": [
      "Scoring History: \n"
     ]
    },
    {
     "data": {
      "text/html": [
       "<div style=\"overflow:auto\"><table style=\"width:50%\"><tr><td><b></b></td>\n",
       "<td><b>timestamp</b></td>\n",
       "<td><b>duration</b></td>\n",
       "<td><b>number_of_trees</b></td>\n",
       "<td><b>training_rmse</b></td>\n",
       "<td><b>training_mae</b></td>\n",
       "<td><b>training_deviance</b></td></tr>\n",
       "<tr><td></td>\n",
       "<td>2018-12-02 13:06:34</td>\n",
       "<td> 9.016 sec</td>\n",
       "<td>0.0</td>\n",
       "<td>nan</td>\n",
       "<td>nan</td>\n",
       "<td>nan</td></tr>\n",
       "<tr><td></td>\n",
       "<td>2018-12-02 13:06:34</td>\n",
       "<td> 9.016 sec</td>\n",
       "<td>1.0</td>\n",
       "<td>2.5579849</td>\n",
       "<td>1.7049214</td>\n",
       "<td>6.5432867</td></tr>\n",
       "<tr><td></td>\n",
       "<td>2018-12-02 13:06:34</td>\n",
       "<td> 9.016 sec</td>\n",
       "<td>2.0</td>\n",
       "<td>1.9935071</td>\n",
       "<td>1.3440091</td>\n",
       "<td>3.9740706</td></tr>\n",
       "<tr><td></td>\n",
       "<td>2018-12-02 13:06:34</td>\n",
       "<td> 9.032 sec</td>\n",
       "<td>3.0</td>\n",
       "<td>2.1689915</td>\n",
       "<td>1.4447683</td>\n",
       "<td>4.7045243</td></tr>\n",
       "<tr><td></td>\n",
       "<td>2018-12-02 13:06:34</td>\n",
       "<td> 9.032 sec</td>\n",
       "<td>4.0</td>\n",
       "<td>2.0264466</td>\n",
       "<td>1.3669113</td>\n",
       "<td>4.1064858</td></tr>\n",
       "<tr><td>---</td>\n",
       "<td>---</td>\n",
       "<td>---</td>\n",
       "<td>---</td>\n",
       "<td>---</td>\n",
       "<td>---</td>\n",
       "<td>---</td></tr>\n",
       "<tr><td></td>\n",
       "<td>2018-12-02 13:06:34</td>\n",
       "<td> 9.261 sec</td>\n",
       "<td>46.0</td>\n",
       "<td>1.2533911</td>\n",
       "<td>0.9247700</td>\n",
       "<td>1.5709892</td></tr>\n",
       "<tr><td></td>\n",
       "<td>2018-12-02 13:06:34</td>\n",
       "<td> 9.261 sec</td>\n",
       "<td>47.0</td>\n",
       "<td>1.2416202</td>\n",
       "<td>0.9155333</td>\n",
       "<td>1.5416206</td></tr>\n",
       "<tr><td></td>\n",
       "<td>2018-12-02 13:06:34</td>\n",
       "<td> 9.261 sec</td>\n",
       "<td>48.0</td>\n",
       "<td>1.2336307</td>\n",
       "<td>0.9129548</td>\n",
       "<td>1.5218448</td></tr>\n",
       "<tr><td></td>\n",
       "<td>2018-12-02 13:06:34</td>\n",
       "<td> 9.261 sec</td>\n",
       "<td>49.0</td>\n",
       "<td>1.2216639</td>\n",
       "<td>0.9060484</td>\n",
       "<td>1.4924627</td></tr>\n",
       "<tr><td></td>\n",
       "<td>2018-12-02 13:06:34</td>\n",
       "<td> 9.261 sec</td>\n",
       "<td>50.0</td>\n",
       "<td>1.2206474</td>\n",
       "<td>0.9065505</td>\n",
       "<td>1.4899800</td></tr></table></div>"
      ],
      "text/plain": [
       "     timestamp            duration    number_of_trees    training_rmse       training_mae        training_deviance\n",
       "---  -------------------  ----------  -----------------  ------------------  ------------------  -------------------\n",
       "     2018-12-02 13:06:34  9.016 sec   0.0                nan                 nan                 nan\n",
       "     2018-12-02 13:06:34  9.016 sec   1.0                2.557984888720771   1.7049214010653289  6.543286690923816\n",
       "     2018-12-02 13:06:34  9.016 sec   2.0                1.9935071047577906  1.3440091094455204  3.9740705767197886\n",
       "     2018-12-02 13:06:34  9.032 sec   3.0                2.1689915302944276  1.4447683318761029  4.704524258488964\n",
       "     2018-12-02 13:06:34  9.032 sec   4.0                2.0264465839472594  1.3669113400338708  4.106485757591518\n",
       "---  ---                  ---         ---                ---                 ---                 ---\n",
       "     2018-12-02 13:06:34  9.261 sec   46.0               1.2533910919166666  0.9247699814360387  1.5709892292960541\n",
       "     2018-12-02 13:06:34  9.261 sec   47.0               1.241620165592163   0.9155333038492833  1.54162063560511\n",
       "     2018-12-02 13:06:34  9.261 sec   48.0               1.2336307270414126  0.9129548320662457  1.521844770700724\n",
       "     2018-12-02 13:06:34  9.261 sec   49.0               1.2216638866559866  0.9060483776885371  1.4924626519594113\n",
       "     2018-12-02 13:06:34  9.261 sec   50.0               1.2206473588141857  0.906550507819996   1.4899799745800473"
      ]
     },
     "metadata": {},
     "output_type": "display_data"
    },
    {
     "name": "stdout",
     "output_type": "stream",
     "text": [
      "\n",
      "See the whole table with table.as_data_frame()\n",
      "Variable Importances: \n"
     ]
    },
    {
     "data": {
      "text/html": [
       "<div style=\"overflow:auto\"><table style=\"width:50%\"><tr><td><b>variable</b></td>\n",
       "<td><b>relative_importance</b></td>\n",
       "<td><b>scaled_importance</b></td>\n",
       "<td><b>percentage</b></td></tr>\n",
       "<tr><td>X2</td>\n",
       "<td>697158.0</td>\n",
       "<td>1.0</td>\n",
       "<td>0.2573084</td></tr>\n",
       "<tr><td>X4</td>\n",
       "<td>648852.75</td>\n",
       "<td>0.9307112</td>\n",
       "<td>0.2394798</td></tr>\n",
       "<tr><td>X1</td>\n",
       "<td>519765.2812500</td>\n",
       "<td>0.7455488</td>\n",
       "<td>0.1918359</td></tr>\n",
       "<tr><td>X5</td>\n",
       "<td>512475.5</td>\n",
       "<td>0.7350923</td>\n",
       "<td>0.1891454</td></tr>\n",
       "<tr><td>X3</td>\n",
       "<td>191765.9375000</td>\n",
       "<td>0.2750681</td>\n",
       "<td>0.0707773</td></tr>\n",
       "<tr><td>X7</td>\n",
       "<td>92119.3203125</td>\n",
       "<td>0.1321355</td>\n",
       "<td>0.0339996</td></tr>\n",
       "<tr><td>X8</td>\n",
       "<td>45387.9765625</td>\n",
       "<td>0.0651043</td>\n",
       "<td>0.0167519</td></tr>\n",
       "<tr><td>X6</td>\n",
       "<td>1901.3536377</td>\n",
       "<td>0.0027273</td>\n",
       "<td>0.0007018</td></tr></table></div>"
      ],
      "text/plain": [
       "variable    relative_importance    scaled_importance    percentage\n",
       "----------  ---------------------  -------------------  ------------\n",
       "X2          697158                 1                    0.257308\n",
       "X4          648853                 0.930711             0.23948\n",
       "X1          519765                 0.745549             0.191836\n",
       "X5          512476                 0.735092             0.189145\n",
       "X3          191766                 0.275068             0.0707773\n",
       "X7          92119.3                0.132135             0.0339996\n",
       "X8          45388                  0.0651043            0.0167519\n",
       "X6          1901.35                0.00272729           0.000701755"
      ]
     },
     "metadata": {},
     "output_type": "display_data"
    },
    {
     "data": {
      "text/plain": []
     },
     "execution_count": 56,
     "metadata": {},
     "output_type": "execute_result"
    }
   ],
   "source": [
    "best_rf1 = gridperf1.models[0]\n",
    "best_rf1"
   ]
  },
  {
   "cell_type": "code",
   "execution_count": 57,
   "metadata": {},
   "outputs": [],
   "source": [
    "rf1_predict = best_rf1.model_performance(test)"
   ]
  },
  {
   "cell_type": "code",
   "execution_count": 58,
   "metadata": {},
   "outputs": [
    {
     "data": {
      "text/plain": [
       "1.4666779386273776"
      ]
     },
     "execution_count": 58,
     "metadata": {},
     "output_type": "execute_result"
    }
   ],
   "source": [
    "rf1_predict.mse()"
   ]
  },
  {
   "cell_type": "markdown",
   "metadata": {},
   "source": [
    "# Grid Search - Random Search"
   ]
  },
  {
   "cell_type": "code",
   "execution_count": 59,
   "metadata": {},
   "outputs": [
    {
     "name": "stdout",
     "output_type": "stream",
     "text": [
      "drf Grid Build progress: |████████████████████████████████████████████████| 100%\n"
     ]
    }
   ],
   "source": [
    "rf_params = {\"ntrees\" : [10,20,30,100] ,\n",
    "             'sample_rate' : [.5,.6,.7,.8],\n",
    "             'col_sample_rate_per_tree' : [.5,.6,.7],\n",
    "              'max_depth' :[5,7]\n",
    "            }\n",
    "search_criteria = {'strategy' : 'RandomDiscrete',\n",
    "                    'max_models' : 10,\n",
    "                    'stopping_metric' : 'MSE',\n",
    "                    'stopping_tolerance' : 0.001,\n",
    "                    'stopping_rounds' : 10,\n",
    "                    'max_runtime_secs' : 60\n",
    "                  }\n",
    "g1 = h2o.grid.H2OGridSearch(model  = h2o.estimators.H2ORandomForestEstimator,\n",
    "                           grid_id = 'rf_g1',\n",
    "                           hyper_params = rf_params,\n",
    "                           search_criteria = search_criteria)\n",
    "\n",
    "g1.train(x,y, train ,nfolds = 3 )"
   ]
  },
  {
   "cell_type": "code",
   "execution_count": 62,
   "metadata": {},
   "outputs": [
    {
     "name": "stdout",
     "output_type": "stream",
     "text": [
      "    col_sample_rate_per_tree max_depth ntrees sample_rate      model_ids  \\\n",
      "0                        0.7         7      4         0.8  rf_g1_model_1   \n",
      "1                        0.6         5      5         0.8  rf_g1_model_0   \n",
      "\n",
      "                 mse  \n",
      "0  2.945357937830904  \n",
      "1   4.09736647979958  \n"
     ]
    },
    {
     "data": {
      "text/plain": []
     },
     "execution_count": 62,
     "metadata": {},
     "output_type": "execute_result"
    }
   ],
   "source": [
    "g1_models = g1.get_grid(sort_by='mse', decreasing=False)\n",
    "g1_models"
   ]
  },
  {
   "cell_type": "code",
   "execution_count": 61,
   "metadata": {},
   "outputs": [
    {
     "name": "stdout",
     "output_type": "stream",
     "text": [
      "Model Details\n",
      "=============\n",
      "H2ORandomForestEstimator :  Distributed Random Forest\n",
      "Model Key:  rf_g1_model_1\n",
      "\n",
      "\n",
      "ModelMetricsRegression: drf\n",
      "** Reported on train data. **\n",
      "\n",
      "MSE: 4.329357638202147\n",
      "RMSE: 2.0807108492537223\n",
      "MAE: 1.460540255480077\n",
      "RMSLE: 0.08930512149629066\n",
      "Mean Residual Deviance: 4.329357638202147\n",
      "\n",
      "ModelMetricsRegression: drf\n",
      "** Reported on cross-validation data. **\n",
      "\n",
      "MSE: 2.945357937830904\n",
      "RMSE: 1.7162045151528136\n",
      "MAE: 1.33861323290805\n",
      "RMSLE: 0.07640716375748627\n",
      "Mean Residual Deviance: 2.945357937830904\n",
      "Cross-Validation Metrics Summary: \n"
     ]
    },
    {
     "data": {
      "text/html": [
       "<div style=\"overflow:auto\"><table style=\"width:50%\"><tr><td><b></b></td>\n",
       "<td><b>mean</b></td>\n",
       "<td><b>sd</b></td>\n",
       "<td><b>cv_1_valid</b></td>\n",
       "<td><b>cv_2_valid</b></td>\n",
       "<td><b>cv_3_valid</b></td></tr>\n",
       "<tr><td>mae</td>\n",
       "<td>1.34015</td>\n",
       "<td>0.0471606</td>\n",
       "<td>1.3708888</td>\n",
       "<td>1.2475555</td>\n",
       "<td>1.4020057</td></tr>\n",
       "<tr><td>mean_residual_deviance</td>\n",
       "<td>2.9510524</td>\n",
       "<td>0.1701745</td>\n",
       "<td>3.0027683</td>\n",
       "<td>2.6338663</td>\n",
       "<td>3.216523</td></tr>\n",
       "<tr><td>mse</td>\n",
       "<td>2.9510524</td>\n",
       "<td>0.1701745</td>\n",
       "<td>3.0027683</td>\n",
       "<td>2.6338663</td>\n",
       "<td>3.216523</td></tr>\n",
       "<tr><td>r2</td>\n",
       "<td>0.9713896</td>\n",
       "<td>0.0020361</td>\n",
       "<td>0.9692925</td>\n",
       "<td>0.9754612</td>\n",
       "<td>0.9694152</td></tr>\n",
       "<tr><td>residual_deviance</td>\n",
       "<td>2.9510524</td>\n",
       "<td>0.1701745</td>\n",
       "<td>3.0027683</td>\n",
       "<td>2.6338663</td>\n",
       "<td>3.216523</td></tr>\n",
       "<tr><td>rmse</td>\n",
       "<td>1.7164118</td>\n",
       "<td>0.0499142</td>\n",
       "<td>1.7328497</td>\n",
       "<td>1.6229191</td>\n",
       "<td>1.7934667</td></tr>\n",
       "<tr><td>rmsle</td>\n",
       "<td>0.0763593</td>\n",
       "<td>0.0012879</td>\n",
       "<td>0.0782295</td>\n",
       "<td>0.0769579</td>\n",
       "<td>0.0738904</td></tr></table></div>"
      ],
      "text/plain": [
       "                        mean       sd          cv_1_valid    cv_2_valid    cv_3_valid\n",
       "----------------------  ---------  ----------  ------------  ------------  ------------\n",
       "mae                     1.34015    0.0471606   1.37089       1.24756       1.40201\n",
       "mean_residual_deviance  2.95105    0.170175    3.00277       2.63387       3.21652\n",
       "mse                     2.95105    0.170175    3.00277       2.63387       3.21652\n",
       "r2                      0.97139    0.00203609  0.969293      0.975461      0.969415\n",
       "residual_deviance       2.95105    0.170175    3.00277       2.63387       3.21652\n",
       "rmse                    1.71641    0.0499142   1.73285       1.62292       1.79347\n",
       "rmsle                   0.0763593  0.00128786  0.0782295     0.0769579     0.0738904"
      ]
     },
     "metadata": {},
     "output_type": "display_data"
    },
    {
     "name": "stdout",
     "output_type": "stream",
     "text": [
      "Scoring History: \n"
     ]
    },
    {
     "data": {
      "text/html": [
       "<div style=\"overflow:auto\"><table style=\"width:50%\"><tr><td><b></b></td>\n",
       "<td><b>timestamp</b></td>\n",
       "<td><b>duration</b></td>\n",
       "<td><b>number_of_trees</b></td>\n",
       "<td><b>training_rmse</b></td>\n",
       "<td><b>training_mae</b></td>\n",
       "<td><b>training_deviance</b></td></tr>\n",
       "<tr><td></td>\n",
       "<td>2018-12-02 13:36:41</td>\n",
       "<td>13 min 40.206 sec</td>\n",
       "<td>0.0</td>\n",
       "<td>nan</td>\n",
       "<td>nan</td>\n",
       "<td>nan</td></tr>\n",
       "<tr><td></td>\n",
       "<td>2018-12-02 13:36:51</td>\n",
       "<td>13 min 50.237 sec</td>\n",
       "<td>4.0</td>\n",
       "<td>2.0807108</td>\n",
       "<td>1.4605403</td>\n",
       "<td>4.3293576</td></tr></table></div>"
      ],
      "text/plain": [
       "    timestamp            duration           number_of_trees    training_rmse    training_mae    training_deviance\n",
       "--  -------------------  -----------------  -----------------  ---------------  --------------  -------------------\n",
       "    2018-12-02 13:36:41  13 min 40.206 sec  0                  nan              nan             nan\n",
       "    2018-12-02 13:36:51  13 min 50.237 sec  4                  2.08071          1.46054         4.32936"
      ]
     },
     "metadata": {},
     "output_type": "display_data"
    },
    {
     "name": "stdout",
     "output_type": "stream",
     "text": [
      "Variable Importances: \n"
     ]
    },
    {
     "data": {
      "text/html": [
       "<div style=\"overflow:auto\"><table style=\"width:50%\"><tr><td><b>variable</b></td>\n",
       "<td><b>relative_importance</b></td>\n",
       "<td><b>scaled_importance</b></td>\n",
       "<td><b>percentage</b></td></tr>\n",
       "<tr><td>X4</td>\n",
       "<td>63577.5312500</td>\n",
       "<td>1.0</td>\n",
       "<td>0.2879267</td></tr>\n",
       "<tr><td>X5</td>\n",
       "<td>51218.9296875</td>\n",
       "<td>0.8056137</td>\n",
       "<td>0.2319577</td></tr>\n",
       "<tr><td>X2</td>\n",
       "<td>49798.75</td>\n",
       "<td>0.7832759</td>\n",
       "<td>0.2255261</td></tr>\n",
       "<tr><td>X3</td>\n",
       "<td>42819.3828125</td>\n",
       "<td>0.6734987</td>\n",
       "<td>0.1939182</td></tr>\n",
       "<tr><td>X7</td>\n",
       "<td>7409.8715820</td>\n",
       "<td>0.1165486</td>\n",
       "<td>0.0335575</td></tr>\n",
       "<tr><td>X8</td>\n",
       "<td>5368.9804688</td>\n",
       "<td>0.0844478</td>\n",
       "<td>0.0243148</td></tr>\n",
       "<tr><td>X1</td>\n",
       "<td>534.7570801</td>\n",
       "<td>0.0084111</td>\n",
       "<td>0.0024218</td></tr>\n",
       "<tr><td>X6</td>\n",
       "<td>83.3152161</td>\n",
       "<td>0.0013105</td>\n",
       "<td>0.0003773</td></tr></table></div>"
      ],
      "text/plain": [
       "variable    relative_importance    scaled_importance    percentage\n",
       "----------  ---------------------  -------------------  ------------\n",
       "X4          63577.5                1                    0.287927\n",
       "X5          51218.9                0.805614             0.231958\n",
       "X2          49798.8                0.783276             0.225526\n",
       "X3          42819.4                0.673499             0.193918\n",
       "X7          7409.87                0.116549             0.0335575\n",
       "X8          5368.98                0.0844478            0.0243148\n",
       "X1          534.757                0.0084111            0.00242178\n",
       "X6          83.3152                0.00131045           0.000377314"
      ]
     },
     "metadata": {},
     "output_type": "display_data"
    },
    {
     "data": {
      "text/plain": []
     },
     "execution_count": 61,
     "metadata": {},
     "output_type": "execute_result"
    }
   ],
   "source": [
    "best_model =  g1_models[0]\n",
    "best_model"
   ]
  },
  {
   "cell_type": "code",
   "execution_count": null,
   "metadata": {},
   "outputs": [],
   "source": []
  }
 ],
 "metadata": {
  "kernelspec": {
   "display_name": "Python 3",
   "language": "python",
   "name": "python3"
  },
  "language_info": {
   "codemirror_mode": {
    "name": "ipython",
    "version": 3
   },
   "file_extension": ".py",
   "mimetype": "text/x-python",
   "name": "python",
   "nbconvert_exporter": "python",
   "pygments_lexer": "ipython3",
   "version": "3.6.5"
  }
 },
 "nbformat": 4,
 "nbformat_minor": 2
}
